{
 "cells": [
  {
   "cell_type": "code",
   "execution_count": 13,
   "id": "8911c9d8",
   "metadata": {},
   "outputs": [
    {
     "name": "stdout",
     "output_type": "stream",
     "text": [
      "[1 2 3]\n"
     ]
    }
   ],
   "source": [
    "import numpy as np\n",
    "#Create 1D array\n",
    "arr1=np.array([1,2,3])\n",
    "print(arr1)"
   ]
  },
  {
   "cell_type": "code",
   "execution_count": 14,
   "id": "53491439",
   "metadata": {},
   "outputs": [
    {
     "data": {
      "text/plain": [
       "3"
      ]
     },
     "execution_count": 14,
     "metadata": {},
     "output_type": "execute_result"
    }
   ],
   "source": [
    "#accessing elements from array\n",
    "arr1[2]"
   ]
  },
  {
   "cell_type": "code",
   "execution_count": 3,
   "id": "d64eb133",
   "metadata": {},
   "outputs": [],
   "source": [
    "#change an element from array\n",
    "arr1[2]=5"
   ]
  },
  {
   "cell_type": "code",
   "execution_count": 4,
   "id": "f3888aab",
   "metadata": {},
   "outputs": [
    {
     "data": {
      "text/plain": [
       "array([1, 2, 5])"
      ]
     },
     "execution_count": 4,
     "metadata": {},
     "output_type": "execute_result"
    }
   ],
   "source": [
    "arr1"
   ]
  },
  {
   "cell_type": "code",
   "execution_count": 15,
   "id": "714342aa",
   "metadata": {},
   "outputs": [
    {
     "name": "stdout",
     "output_type": "stream",
     "text": [
      "[[1 2 3]\n",
      " [4 5 6]]\n"
     ]
    }
   ],
   "source": [
    "#create 2D array\n",
    "arr2=np.array([[1,2,3],[4,5,6]])\n",
    "print(arr2)"
   ]
  },
  {
   "cell_type": "code",
   "execution_count": 16,
   "id": "9a5f917c",
   "metadata": {},
   "outputs": [
    {
     "name": "stdout",
     "output_type": "stream",
     "text": [
      "The Shape is 2 rows and 3 columns: (2, 3)\n"
     ]
    }
   ],
   "source": [
    "#check the shape of array\n",
    "print(\"The Shape is 2 rows and 3 columns:\",arr2.shape)"
   ]
  },
  {
   "cell_type": "code",
   "execution_count": 17,
   "id": "30e53cc6",
   "metadata": {},
   "outputs": [
    {
     "name": "stdout",
     "output_type": "stream",
     "text": [
      "3\n",
      "3\n",
      "3\n",
      "4\n"
     ]
    }
   ],
   "source": [
    "#Accessing the elements from array\n",
    "print(arr2[0][2])\n",
    "print(arr2[0,2])\n",
    "print(arr2[0,-1])\n",
    "print(arr2[-1,0])"
   ]
  },
  {
   "cell_type": "code",
   "execution_count": 18,
   "id": "d5ce2328",
   "metadata": {},
   "outputs": [
    {
     "name": "stdout",
     "output_type": "stream",
     "text": [
      "['India' 'China' 'USA' 'Mexico']\n"
     ]
    }
   ],
   "source": [
    "#array of tye string\n",
    "arr3=np.array(['India','China','USA','Mexico'])\n",
    "print(arr3)"
   ]
  },
  {
   "cell_type": "code",
   "execution_count": 10,
   "id": "f4a5f166",
   "metadata": {},
   "outputs": [
    {
     "data": {
      "text/plain": [
       "'China'"
      ]
     },
     "execution_count": 10,
     "metadata": {},
     "output_type": "execute_result"
    }
   ],
   "source": [
    "arr3[1]"
   ]
  },
  {
   "cell_type": "code",
   "execution_count": 19,
   "id": "850b2574",
   "metadata": {},
   "outputs": [
    {
     "name": "stdout",
     "output_type": "stream",
     "text": [
      "[ 0  2  4  6  8 10 12 14 16 18]\n"
     ]
    }
   ],
   "source": [
    "#Array of evenly spaced values within specified interval\n",
    "arr=np.arange(0,20,2)\n",
    "print(arr)"
   ]
  },
  {
   "cell_type": "code",
   "execution_count": 20,
   "id": "3b3b22d9",
   "metadata": {},
   "outputs": [
    {
     "name": "stdout",
     "output_type": "stream",
     "text": [
      "[ 0.          0.52631579  1.05263158  1.57894737  2.10526316  2.63157895\n",
      "  3.15789474  3.68421053  4.21052632  4.73684211  5.26315789  5.78947368\n",
      "  6.31578947  6.84210526  7.36842105  7.89473684  8.42105263  8.94736842\n",
      "  9.47368421 10.        ]\n"
     ]
    }
   ],
   "source": [
    "#Array of evenly spaced number in specified interval\n",
    "arr=np.linspace(0,10,20)\n",
    "print(arr)"
   ]
  },
  {
   "cell_type": "code",
   "execution_count": 21,
   "id": "fdd16ec2",
   "metadata": {},
   "outputs": [
    {
     "name": "stdout",
     "output_type": "stream",
     "text": [
      "[0.68743134 0.28345407 0.30146329 0.85829849 0.13257618 0.96700518\n",
      " 0.07727837 0.24869621 0.0660331  0.80302311]\n",
      "\n",
      "\n",
      "[[0.00784719 0.76324312 0.62554828 0.29258244]\n",
      " [0.91266123 0.58837056 0.53481524 0.69452288]\n",
      " [0.50191419 0.90627598 0.15145774 0.00687948]]\n"
     ]
    }
   ],
   "source": [
    "#Array of random values between 0 and 1 in a given shape\n",
    "arr=np.random.rand(10)\n",
    "print(arr)\n",
    "print('\\n')\n",
    "arr=np.random.rand(3,4)\n",
    "print(arr)"
   ]
  },
  {
   "cell_type": "code",
   "execution_count": 22,
   "id": "417a2c77",
   "metadata": {},
   "outputs": [
    {
     "name": "stdout",
     "output_type": "stream",
     "text": [
      "[[10 10 10 10 10 10]\n",
      " [10 10 10 10 10 10]\n",
      " [10 10 10 10 10 10]\n",
      " [10 10 10 10 10 10]]\n"
     ]
    }
   ],
   "source": [
    "#Array of constant values in a given shape\n",
    "print(np.full((4,6),10))"
   ]
  },
  {
   "cell_type": "code",
   "execution_count": 23,
   "id": "addb55f2",
   "metadata": {},
   "outputs": [
    {
     "name": "stdout",
     "output_type": "stream",
     "text": [
      "[0 0 0 1 1 1 2 2 2]\n"
     ]
    }
   ],
   "source": [
    "#Create an array by repitition\n",
    "#repeat each element of an array by a specified number of times\n",
    "arr=[0,1,2]\n",
    "print(np.repeat(arr,3))"
   ]
  },
  {
   "cell_type": "code",
   "execution_count": 24,
   "id": "aa396024",
   "metadata": {},
   "outputs": [
    {
     "name": "stdout",
     "output_type": "stream",
     "text": [
      "[0 1 2 0 1 2 0 1 2]\n"
     ]
    }
   ],
   "source": [
    "#Repeat an array by a specified number of times\n",
    "arr=[0,1,2]\n",
    "print(np.tile(arr,3))"
   ]
  },
  {
   "cell_type": "code",
   "execution_count": 26,
   "id": "4908987c",
   "metadata": {},
   "outputs": [
    {
     "name": "stdout",
     "output_type": "stream",
     "text": [
      "[[1. 0. 0.]\n",
      " [0. 1. 0.]\n",
      " [0. 0. 1.]]\n"
     ]
    }
   ],
   "source": [
    "#Create an identity matrix with eye\n",
    "identity_matrix=np.eye(3)\n",
    "print(identity_matrix)"
   ]
  },
  {
   "cell_type": "code",
   "execution_count": 27,
   "id": "29518ff5",
   "metadata": {},
   "outputs": [
    {
     "name": "stdout",
     "output_type": "stream",
     "text": [
      "[[1. 0. 0.]\n",
      " [0. 1. 0.]\n",
      " [0. 0. 1.]]\n"
     ]
    }
   ],
   "source": [
    "#Create an identity matrix with identity\n",
    "identity_matrix=np.identity(3)\n",
    "print(identity_matrix)"
   ]
  },
  {
   "cell_type": "code",
   "execution_count": 28,
   "id": "aec19d71",
   "metadata": {},
   "outputs": [
    {
     "name": "stdout",
     "output_type": "stream",
     "text": [
      "[[0.53370959 0.51204123 0.79177402 0.36095497 0.6422525 ]\n",
      " [0.59392275 0.96946228 0.06009808 0.06352568 0.97423012]\n",
      " [0.83610295 0.52613131 0.404734   0.16389741 0.92579069]\n",
      " [0.37806913 0.13370278 0.19090199 0.90276333 0.67118553]\n",
      " [0.67721607 0.93061639 0.42298494 0.06294356 0.29564897]]\n"
     ]
    }
   ],
   "source": [
    "#create 5*5 array for random no between 0 & 1\n",
    "arr=np.random.rand(5,5)\n",
    "print(arr)"
   ]
  },
  {
   "cell_type": "code",
   "execution_count": 29,
   "id": "dc8afd70",
   "metadata": {},
   "outputs": [
    {
     "name": "stdout",
     "output_type": "stream",
     "text": [
      "[3.0190205  3.07195398 1.87049304 1.55408495 3.5091078 ]\n"
     ]
    }
   ],
   "source": [
    "#Sum along the column\n",
    "print(np.sum(arr,axis=0))"
   ]
  },
  {
   "cell_type": "code",
   "execution_count": 30,
   "id": "0f4d0c5a",
   "metadata": {},
   "outputs": [
    {
     "name": "stdout",
     "output_type": "stream",
     "text": [
      "[2.84073231 2.66123891 2.85665635 2.27662277 2.38940993]\n"
     ]
    }
   ],
   "source": [
    "#Sum along the row\n",
    "print(np.sum(arr,axis=1))"
   ]
  },
  {
   "cell_type": "code",
   "execution_count": 31,
   "id": "a2e1887b",
   "metadata": {},
   "outputs": [
    {
     "name": "stdout",
     "output_type": "stream",
     "text": [
      "0.5209864110079158\n",
      "0.5261313090855765\n",
      "0.3007818145128289\n",
      "0.09046969994162982\n"
     ]
    }
   ],
   "source": [
    "#calculate mean,median,sd and variance\n",
    "print(np.mean(arr))\n",
    "print(np.median(arr))\n",
    "print(np.std(arr))\n",
    "print(np.var(arr))"
   ]
  },
  {
   "cell_type": "code",
   "execution_count": 32,
   "id": "fccd1105",
   "metadata": {},
   "outputs": [
    {
     "name": "stdout",
     "output_type": "stream",
     "text": [
      "[[0.92813219 0.7821089  0.67448749 0.64778408 0.74405194]\n",
      " [0.6848015  0.81987876 0.26358057 0.3958675  0.30573526]\n",
      " [0.99407692 0.42603556 0.66873992 0.55575184 0.07126615]\n",
      " [0.93579034 0.02088296 0.45985282 0.31092995 0.94877228]\n",
      " [0.55731563 0.79004187 0.33507373 0.54679741 0.49070411]]\n"
     ]
    }
   ],
   "source": [
    "#Sort an array\n",
    "arr=np.random.rand(5,5)\n",
    "print(arr)"
   ]
  },
  {
   "cell_type": "code",
   "execution_count": 36,
   "id": "89d5bc2f",
   "metadata": {},
   "outputs": [
    {
     "name": "stdout",
     "output_type": "stream",
     "text": [
      "[[0.64778408 0.67448749 0.74405194 0.7821089  0.92813219]\n",
      " [0.26358057 0.30573526 0.3958675  0.6848015  0.81987876]\n",
      " [0.07126615 0.42603556 0.55575184 0.66873992 0.99407692]\n",
      " [0.02088296 0.31092995 0.45985282 0.93579034 0.94877228]\n",
      " [0.33507373 0.49070411 0.54679741 0.55731563 0.79004187]]\n"
     ]
    }
   ],
   "source": [
    "#Sort along the row\n",
    "print(np.sort(arr,axis=1))"
   ]
  },
  {
   "cell_type": "code",
   "execution_count": 42,
   "id": "cd26e698",
   "metadata": {},
   "outputs": [],
   "source": [
    "#Append elements to array\n",
    "arr=np.array([4,5,6,7])"
   ]
  },
  {
   "cell_type": "code",
   "execution_count": 39,
   "id": "0258010c",
   "metadata": {},
   "outputs": [
    {
     "data": {
      "text/plain": [
       "array([4, 5, 6, 7, 8])"
      ]
     },
     "execution_count": 39,
     "metadata": {},
     "output_type": "execute_result"
    }
   ],
   "source": [
    "arr1=np.append(arr,8)\n",
    "arr1"
   ]
  },
  {
   "cell_type": "code",
   "execution_count": 40,
   "id": "5a8371fe",
   "metadata": {},
   "outputs": [
    {
     "name": "stdout",
     "output_type": "stream",
     "text": [
      "[ 4  5  6  7  9 10 11]\n"
     ]
    }
   ],
   "source": [
    "arr2=np.append(arr,[9,10,11])\n",
    "print(arr2)"
   ]
  },
  {
   "cell_type": "code",
   "execution_count": 43,
   "id": "f3703ec7",
   "metadata": {},
   "outputs": [
    {
     "name": "stdout",
     "output_type": "stream",
     "text": [
      "[ 4  5  6  7  9 10 11]\n",
      "\n",
      "\n",
      "[ 4  6  7 10 11]\n"
     ]
    }
   ],
   "source": [
    "#Delete multiple elements\n",
    "arr2=np.array([4,5,6,7,9,10,11])\n",
    "print(arr2)\n",
    "print('\\n')\n",
    "arr5=np.delete(arr2,[1,4])\n",
    "print(arr5)"
   ]
  },
  {
   "cell_type": "code",
   "execution_count": 44,
   "id": "4e3b8201",
   "metadata": {},
   "outputs": [],
   "source": [
    "#Combine and split an array\n",
    "arr1=np.array([[1,2,3,4],[1,2,3,4]])\n",
    "arr2=np.array([[5,6,7,8],[5,6,7,8]])"
   ]
  },
  {
   "cell_type": "code",
   "execution_count": 47,
   "id": "ae106245",
   "metadata": {},
   "outputs": [
    {
     "name": "stdout",
     "output_type": "stream",
     "text": [
      "[[1 2 3 4]\n",
      " [1 2 3 4]\n",
      " [5 6 7 8]\n",
      " [5 6 7 8]]\n"
     ]
    }
   ],
   "source": [
    "#Combine the array items by column\n",
    "cat=np.concatenate((arr1,arr2),axis=0)\n",
    "print(cat)"
   ]
  },
  {
   "cell_type": "code",
   "execution_count": 48,
   "id": "a94c0c10",
   "metadata": {},
   "outputs": [
    {
     "name": "stdout",
     "output_type": "stream",
     "text": [
      "[[1 2 3 4 5 6 7 8]\n",
      " [1 2 3 4 5 6 7 8]]\n"
     ]
    }
   ],
   "source": [
    "#Combine the array items by row\n",
    "cat=np.concatenate((arr1,arr2),axis=1)\n",
    "print(cat)"
   ]
  },
  {
   "cell_type": "code",
   "execution_count": null,
   "id": "0eb6b71b",
   "metadata": {},
   "outputs": [],
   "source": []
  }
 ],
 "metadata": {
  "kernelspec": {
   "display_name": "Python 3 (ipykernel)",
   "language": "python",
   "name": "python3"
  },
  "language_info": {
   "codemirror_mode": {
    "name": "ipython",
    "version": 3
   },
   "file_extension": ".py",
   "mimetype": "text/x-python",
   "name": "python",
   "nbconvert_exporter": "python",
   "pygments_lexer": "ipython3",
   "version": "3.9.7"
  }
 },
 "nbformat": 4,
 "nbformat_minor": 5
}
