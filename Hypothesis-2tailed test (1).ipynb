{
 "cells": [
  {
   "cell_type": "code",
   "execution_count": 1,
   "id": "22239822",
   "metadata": {},
   "outputs": [],
   "source": [
    "import pandas as pd\n",
    "import numpy as pd\n",
    "from scipy import stats"
   ]
  },
  {
   "cell_type": "code",
   "execution_count": 2,
   "id": "e54ea9d1",
   "metadata": {},
   "outputs": [
    {
     "name": "stdout",
     "output_type": "stream",
     "text": [
      "accept null hypothesis\n"
     ]
    }
   ],
   "source": [
    "x=stats.norm.rvs(30,10,30)\n",
    "results=stats.ttest_1samp(x,27)\n",
    "alpha=0.05\n",
    "if(results[0]<0)&(results[1]/2<alpha):\n",
    "    print(\"reject null hypothesis,mean is greater than 27\")\n",
    "else:\n",
    "    print(\"accept null hypothesis\")"
   ]
  },
  {
   "cell_type": "code",
   "execution_count": 3,
   "id": "3db88725",
   "metadata": {},
   "outputs": [],
   "source": [
    "y=stats.norm.rvs(500,10,30)\n",
    "res=stats.ttest_1samp(x,505)"
   ]
  },
  {
   "cell_type": "code",
   "execution_count": 4,
   "id": "54b26c58",
   "metadata": {},
   "outputs": [
    {
     "data": {
      "text/plain": [
       "Ttest_1sampResult(statistic=-277.0076743658178, pvalue=3.4451162763141205e-51)"
      ]
     },
     "execution_count": 4,
     "metadata": {},
     "output_type": "execute_result"
    }
   ],
   "source": [
    "res# cant use stats.ttest as alpha is changed"
   ]
  },
  {
   "cell_type": "code",
   "execution_count": 5,
   "id": "153aa731",
   "metadata": {},
   "outputs": [],
   "source": [
    "import math\n",
    "xbar=505\n",
    "SEM=(10/math.sqrt(30))"
   ]
  },
  {
   "cell_type": "code",
   "execution_count": 6,
   "id": "cf3f4d15",
   "metadata": {},
   "outputs": [
    {
     "data": {
      "text/plain": [
       "2.7386127875258306"
      ]
     },
     "execution_count": 6,
     "metadata": {},
     "output_type": "execute_result"
    }
   ],
   "source": [
    "mu=500\n",
    "z=(xbar-mu)/SEM\n",
    "z"
   ]
  },
  {
   "cell_type": "code",
   "execution_count": 7,
   "id": "c1ae2151",
   "metadata": {},
   "outputs": [
    {
     "data": {
      "text/plain": [
       "0.0061698993205441255"
      ]
     },
     "execution_count": 7,
     "metadata": {},
     "output_type": "execute_result"
    }
   ],
   "source": [
    "pval=2*(1-stats.norm.cdf(z))\n",
    "pval"
   ]
  },
  {
   "cell_type": "code",
   "execution_count": 8,
   "id": "c2a6ae1f",
   "metadata": {},
   "outputs": [],
   "source": [
    "#pval is<alpha,so reject null hypothesis"
   ]
  },
  {
   "cell_type": "code",
   "execution_count": null,
   "id": "426d9507",
   "metadata": {},
   "outputs": [],
   "source": []
  }
 ],
 "metadata": {
  "kernelspec": {
   "display_name": "Python 3 (ipykernel)",
   "language": "python",
   "name": "python3"
  },
  "language_info": {
   "codemirror_mode": {
    "name": "ipython",
    "version": 3
   },
   "file_extension": ".py",
   "mimetype": "text/x-python",
   "name": "python",
   "nbconvert_exporter": "python",
   "pygments_lexer": "ipython3",
   "version": "3.9.7"
  }
 },
 "nbformat": 4,
 "nbformat_minor": 5
}
