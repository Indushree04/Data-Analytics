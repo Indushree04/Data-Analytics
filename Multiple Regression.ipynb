{
 "cells": [
  {
   "cell_type": "code",
   "execution_count": 1,
   "id": "aa821534",
   "metadata": {},
   "outputs": [],
   "source": [
    "import pandas as pd\n",
    "from statsmodels.formula.api import ols\n",
    "from statsmodels.stats.anova import anova_lm\n",
    "import matplotlib.pyplot as plt"
   ]
  },
  {
   "cell_type": "code",
   "execution_count": 2,
   "id": "5c351480",
   "metadata": {},
   "outputs": [
    {
     "data": {
      "text/html": [
       "<div>\n",
       "<style scoped>\n",
       "    .dataframe tbody tr th:only-of-type {\n",
       "        vertical-align: middle;\n",
       "    }\n",
       "\n",
       "    .dataframe tbody tr th {\n",
       "        vertical-align: top;\n",
       "    }\n",
       "\n",
       "    .dataframe thead th {\n",
       "        text-align: right;\n",
       "    }\n",
       "</style>\n",
       "<table border=\"1\" class=\"dataframe\">\n",
       "  <thead>\n",
       "    <tr style=\"text-align: right;\">\n",
       "      <th></th>\n",
       "      <th>Driving Assignmnet</th>\n",
       "      <th>x1</th>\n",
       "      <th>n_of_deliveries</th>\n",
       "      <th>travel_time</th>\n",
       "    </tr>\n",
       "  </thead>\n",
       "  <tbody>\n",
       "    <tr>\n",
       "      <th>0</th>\n",
       "      <td>1</td>\n",
       "      <td>100</td>\n",
       "      <td>4</td>\n",
       "      <td>9.3</td>\n",
       "    </tr>\n",
       "    <tr>\n",
       "      <th>1</th>\n",
       "      <td>2</td>\n",
       "      <td>50</td>\n",
       "      <td>3</td>\n",
       "      <td>4.8</td>\n",
       "    </tr>\n",
       "    <tr>\n",
       "      <th>2</th>\n",
       "      <td>3</td>\n",
       "      <td>100</td>\n",
       "      <td>4</td>\n",
       "      <td>8.9</td>\n",
       "    </tr>\n",
       "    <tr>\n",
       "      <th>3</th>\n",
       "      <td>4</td>\n",
       "      <td>100</td>\n",
       "      <td>2</td>\n",
       "      <td>6.5</td>\n",
       "    </tr>\n",
       "    <tr>\n",
       "      <th>4</th>\n",
       "      <td>5</td>\n",
       "      <td>50</td>\n",
       "      <td>2</td>\n",
       "      <td>4.2</td>\n",
       "    </tr>\n",
       "    <tr>\n",
       "      <th>5</th>\n",
       "      <td>6</td>\n",
       "      <td>80</td>\n",
       "      <td>2</td>\n",
       "      <td>6.2</td>\n",
       "    </tr>\n",
       "    <tr>\n",
       "      <th>6</th>\n",
       "      <td>7</td>\n",
       "      <td>75</td>\n",
       "      <td>3</td>\n",
       "      <td>7.4</td>\n",
       "    </tr>\n",
       "    <tr>\n",
       "      <th>7</th>\n",
       "      <td>8</td>\n",
       "      <td>65</td>\n",
       "      <td>4</td>\n",
       "      <td>6.0</td>\n",
       "    </tr>\n",
       "    <tr>\n",
       "      <th>8</th>\n",
       "      <td>9</td>\n",
       "      <td>90</td>\n",
       "      <td>3</td>\n",
       "      <td>7.6</td>\n",
       "    </tr>\n",
       "    <tr>\n",
       "      <th>9</th>\n",
       "      <td>10</td>\n",
       "      <td>90</td>\n",
       "      <td>2</td>\n",
       "      <td>6.1</td>\n",
       "    </tr>\n",
       "  </tbody>\n",
       "</table>\n",
       "</div>"
      ],
      "text/plain": [
       "   Driving Assignmnet   x1  n_of_deliveries  travel_time\n",
       "0                   1  100                4          9.3\n",
       "1                   2   50                3          4.8\n",
       "2                   3  100                4          8.9\n",
       "3                   4  100                2          6.5\n",
       "4                   5   50                2          4.2\n",
       "5                   6   80                2          6.2\n",
       "6                   7   75                3          7.4\n",
       "7                   8   65                4          6.0\n",
       "8                   9   90                3          7.6\n",
       "9                  10   90                2          6.1"
      ]
     },
     "execution_count": 2,
     "metadata": {},
     "output_type": "execute_result"
    }
   ],
   "source": [
    "df1=pd.read_excel('D:/Indushree/TRUCKING.xlsx')\n",
    "df1"
   ]
  },
  {
   "cell_type": "code",
   "execution_count": 3,
   "id": "7c40242f",
   "metadata": {},
   "outputs": [
    {
     "data": {
      "text/plain": [
       "Text(0.5, 1.0, 'Simple linear Regression with Miles travelled')"
      ]
     },
     "execution_count": 3,
     "metadata": {},
     "output_type": "execute_result"
    },
    {
     "data": {
      "image/png": "[encoded data removed]",
      "text/plain": [
       "<Figure size 432x288 with 1 Axes>"
      ]
     },
     "metadata": {
      "needs_background": "light"
     },
     "output_type": "display_data"
    }
   ],
   "source": [
    "import matplotlib.pyplot as plt\n",
    "plt.scatter(df1['x1'],df1['travel_time'],color=\"green\")\n",
    "plt.ylabel('travel time')\n",
    "plt.title('Simple linear Regression with Miles travelled')"
   ]
  },
  {
   "cell_type": "code",
   "execution_count": 4,
   "id": "623d2d31",
   "metadata": {},
   "outputs": [
    {
     "data": {
      "text/plain": [
       "Text(0.5, 1.0, 'Simple linear Regression with number of Delivers')"
      ]
     },
     "execution_count": 4,
     "metadata": {},
     "output_type": "execute_result"
    },
    {
     "data": {
      "image/png": "[encoded data removed]",
      "text/plain": [
       "<Figure size 432x288 with 1 Axes>"
      ]
     },
     "metadata": {
      "needs_background": "light"
     },
     "output_type": "display_data"
    }
   ],
   "source": [
    "plt.scatter(df1['n_of_deliveries'],df1['travel_time'],color=\"red\")\n",
    "plt.ylabel('Travel time')\n",
    "plt.title('Simple linear Regression with number of Delivers')"
   ]
  },
  {
   "cell_type": "code",
   "execution_count": 6,
   "id": "5e604db5",
   "metadata": {},
   "outputs": [
    {
     "data": {
      "text/plain": [
       "Text(0.5, 0, 'x1 in green and x2 in red')"
      ]
     },
     "execution_count": 6,
     "metadata": {},
     "output_type": "execute_result"
    },
    {
     "data": {
      "image/png": "[encoded data removed]",
      "text/plain": [
       "<Figure size 432x288 with 1 Axes>"
      ]
     },
     "metadata": {
      "needs_background": "light"
     },
     "output_type": "display_data"
    }
   ],
   "source": [
    "import matplotlib.pyplot as plt\n",
    "plt.figure()\n",
    "plt.scatter(df1['x1'],df1['travel_time'],color=\"green\")\n",
    "plt.scatter(df1['n_of_deliveries'],df1['travel_time'],color=\"red\")\n",
    "plt.ylabel('Travel time')\n",
    "plt.title('Multiple Regression')\n",
    "plt.xlabel('x1 in green and x2 in red')"
   ]
  },
  {
   "cell_type": "code",
   "execution_count": 7,
   "id": "56fa4b75",
   "metadata": {},
   "outputs": [
    {
     "name": "stdout",
     "output_type": "stream",
     "text": [
      "                            OLS Regression Results                            \n",
      "==============================================================================\n",
      "Dep. Variable:            travel_time   R-squared:                       0.664\n",
      "Model:                            OLS   Adj. R-squared:                  0.622\n",
      "Method:                 Least Squares   F-statistic:                     15.81\n",
      "Date:                Mon, 29 Aug 2022   Prob (F-statistic):            0.00408\n",
      "Time:                        10:47:27   Log-Likelihood:                -13.092\n",
      "No. Observations:                  10   AIC:                             30.18\n",
      "Df Residuals:                       8   BIC:                             30.79\n",
      "Df Model:                           1                                         \n",
      "Covariance Type:            nonrobust                                         \n",
      "==============================================================================\n",
      "                 coef    std err          t      P>|t|      [0.025      0.975]\n",
      "------------------------------------------------------------------------------\n",
      "Intercept      1.2739      1.401      0.909      0.390      -1.956       4.504\n",
      "x1             0.0678      0.017      3.977      0.004       0.028       0.107\n",
      "==============================================================================\n",
      "Omnibus:                        0.694   Durbin-Watson:                   1.723\n",
      "Prob(Omnibus):                  0.707   Jarque-Bera (JB):                0.623\n",
      "Skew:                          -0.333   Prob(JB):                        0.732\n",
      "Kurtosis:                       1.974   Cond. No.                         363.\n",
      "==============================================================================\n",
      "\n",
      "Notes:\n",
      "[1] Standard Errors assume that the covariance matrix of the errors is correctly specified.\n"
     ]
    },
    {
     "name": "stderr",
     "output_type": "stream",
     "text": [
      "C:\\Users\\User\\anaconda1\\lib\\site-packages\\scipy\\stats\\stats.py:1541: UserWarning: kurtosistest only valid for n>=20 ... continuing anyway, n=10\n",
      "  warnings.warn(\"kurtosistest only valid for n>=20 ... continuing \"\n"
     ]
    }
   ],
   "source": [
    "Reg1=ols(formula=\"travel_time~x1\",data=df1)\n",
    "Fit1=Reg1.fit()\n",
    "print(Fit1.summary())"
   ]
  },
  {
   "cell_type": "code",
   "execution_count": 9,
   "id": "08285a39",
   "metadata": {},
   "outputs": [
    {
     "name": "stderr",
     "output_type": "stream",
     "text": [
      "C:\\Users\\User\\anaconda1\\lib\\site-packages\\scipy\\stats\\stats.py:1541: UserWarning: kurtosistest only valid for n>=20 ... continuing anyway, n=10\n",
      "  warnings.warn(\"kurtosistest only valid for n>=20 ... continuing \"\n"
     ]
    },
    {
     "data": {
      "text/html": [
       "<table class=\"simpletable\">\n",
       "<caption>OLS Regression Results</caption>\n",
       "<tr>\n",
       "  <th>Dep. Variable:</th>       <td>travel_time</td>   <th>  R-squared:         </th> <td>   0.904</td>\n",
       "</tr>\n",
       "<tr>\n",
       "  <th>Model:</th>                   <td>OLS</td>       <th>  Adj. R-squared:    </th> <td>   0.876</td>\n",
       "</tr>\n",
       "<tr>\n",
       "  <th>Method:</th>             <td>Least Squares</td>  <th>  F-statistic:       </th> <td>   32.88</td>\n",
       "</tr>\n",
       "<tr>\n",
       "  <th>Date:</th>             <td>Mon, 29 Aug 2022</td> <th>  Prob (F-statistic):</th> <td>0.000276</td>\n",
       "</tr>\n",
       "<tr>\n",
       "  <th>Time:</th>                 <td>10:50:26</td>     <th>  Log-Likelihood:    </th> <td> -6.8398</td>\n",
       "</tr>\n",
       "<tr>\n",
       "  <th>No. Observations:</th>      <td>    10</td>      <th>  AIC:               </th> <td>   19.68</td>\n",
       "</tr>\n",
       "<tr>\n",
       "  <th>Df Residuals:</th>          <td>     7</td>      <th>  BIC:               </th> <td>   20.59</td>\n",
       "</tr>\n",
       "<tr>\n",
       "  <th>Df Model:</th>              <td>     2</td>      <th>                     </th>     <td> </td>   \n",
       "</tr>\n",
       "<tr>\n",
       "  <th>Covariance Type:</th>      <td>nonrobust</td>    <th>                     </th>     <td> </td>   \n",
       "</tr>\n",
       "</table>\n",
       "<table class=\"simpletable\">\n",
       "<tr>\n",
       "         <td></td>            <th>coef</th>     <th>std err</th>      <th>t</th>      <th>P>|t|</th>  <th>[0.025</th>    <th>0.975]</th>  \n",
       "</tr>\n",
       "<tr>\n",
       "  <th>Intercept</th>       <td>   -0.8687</td> <td>    0.952</td> <td>   -0.913</td> <td> 0.392</td> <td>   -3.119</td> <td>    1.381</td>\n",
       "</tr>\n",
       "<tr>\n",
       "  <th>x1</th>              <td>    0.0611</td> <td>    0.010</td> <td>    6.182</td> <td> 0.000</td> <td>    0.038</td> <td>    0.085</td>\n",
       "</tr>\n",
       "<tr>\n",
       "  <th>n_of_deliveries</th> <td>    0.9234</td> <td>    0.221</td> <td>    4.176</td> <td> 0.004</td> <td>    0.401</td> <td>    1.446</td>\n",
       "</tr>\n",
       "</table>\n",
       "<table class=\"simpletable\">\n",
       "<tr>\n",
       "  <th>Omnibus:</th>       <td> 0.039</td> <th>  Durbin-Watson:     </th> <td>   2.515</td>\n",
       "</tr>\n",
       "<tr>\n",
       "  <th>Prob(Omnibus):</th> <td> 0.981</td> <th>  Jarque-Bera (JB):  </th> <td>   0.151</td>\n",
       "</tr>\n",
       "<tr>\n",
       "  <th>Skew:</th>          <td> 0.074</td> <th>  Prob(JB):          </th> <td>   0.927</td>\n",
       "</tr>\n",
       "<tr>\n",
       "  <th>Kurtosis:</th>      <td> 2.418</td> <th>  Cond. No.          </th> <td>    435.</td>\n",
       "</tr>\n",
       "</table><br/><br/>Notes:<br/>[1] Standard Errors assume that the covariance matrix of the errors is correctly specified."
      ],
      "text/plain": [
       "<class 'statsmodels.iolib.summary.Summary'>\n",
       "\"\"\"\n",
       "                            OLS Regression Results                            \n",
       "==============================================================================\n",
       "Dep. Variable:            travel_time   R-squared:                       0.904\n",
       "Model:                            OLS   Adj. R-squared:                  0.876\n",
       "Method:                 Least Squares   F-statistic:                     32.88\n",
       "Date:                Mon, 29 Aug 2022   Prob (F-statistic):           0.000276\n",
       "Time:                        10:50:26   Log-Likelihood:                -6.8398\n",
       "No. Observations:                  10   AIC:                             19.68\n",
       "Df Residuals:                       7   BIC:                             20.59\n",
       "Df Model:                           2                                         \n",
       "Covariance Type:            nonrobust                                         \n",
       "===================================================================================\n",
       "                      coef    std err          t      P>|t|      [0.025      0.975]\n",
       "-----------------------------------------------------------------------------------\n",
       "Intercept          -0.8687      0.952     -0.913      0.392      -3.119       1.381\n",
       "x1                  0.0611      0.010      6.182      0.000       0.038       0.085\n",
       "n_of_deliveries     0.9234      0.221      4.176      0.004       0.401       1.446\n",
       "==============================================================================\n",
       "Omnibus:                        0.039   Durbin-Watson:                   2.515\n",
       "Prob(Omnibus):                  0.981   Jarque-Bera (JB):                0.151\n",
       "Skew:                           0.074   Prob(JB):                        0.927\n",
       "Kurtosis:                       2.418   Cond. No.                         435.\n",
       "==============================================================================\n",
       "\n",
       "Notes:\n",
       "[1] Standard Errors assume that the covariance matrix of the errors is correctly specified.\n",
       "\"\"\""
      ]
     },
     "execution_count": 9,
     "metadata": {},
     "output_type": "execute_result"
    }
   ],
   "source": [
    "from statsmodels.formula.api import ols\n",
    "model=ols('travel_time~x1+n_of_deliveries',data=df1).fit()\n",
    "model.summary()"
   ]
  },
  {
   "cell_type": "code",
   "execution_count": 10,
   "id": "84f9537f",
   "metadata": {},
   "outputs": [
    {
     "name": "stdout",
     "output_type": "stream",
     "text": [
      "           df     sum_sq    mean_sq          F   PR(>F)\n",
      "x1        1.0  15.871304  15.871304  15.814578  0.00408\n",
      "Residual  8.0   8.028696   1.003587        NaN      NaN\n"
     ]
    }
   ],
   "source": [
    "print(anova_lm(Fit1))"
   ]
  },
  {
   "cell_type": "code",
   "execution_count": 11,
   "id": "7793b43a",
   "metadata": {},
   "outputs": [
    {
     "data": {
      "text/html": [
       "<div>\n",
       "<style scoped>\n",
       "    .dataframe tbody tr th:only-of-type {\n",
       "        vertical-align: middle;\n",
       "    }\n",
       "\n",
       "    .dataframe tbody tr th {\n",
       "        vertical-align: top;\n",
       "    }\n",
       "\n",
       "    .dataframe thead th {\n",
       "        text-align: right;\n",
       "    }\n",
       "</style>\n",
       "<table border=\"1\" class=\"dataframe\">\n",
       "  <thead>\n",
       "    <tr style=\"text-align: right;\">\n",
       "      <th></th>\n",
       "      <th>df</th>\n",
       "      <th>sum_sq</th>\n",
       "      <th>mean_sq</th>\n",
       "      <th>F</th>\n",
       "      <th>PR(&gt;F)</th>\n",
       "    </tr>\n",
       "  </thead>\n",
       "  <tbody>\n",
       "    <tr>\n",
       "      <th>x1</th>\n",
       "      <td>1.0</td>\n",
       "      <td>15.871304</td>\n",
       "      <td>15.871304</td>\n",
       "      <td>48.315660</td>\n",
       "      <td>0.000221</td>\n",
       "    </tr>\n",
       "    <tr>\n",
       "      <th>n_of_deliveries</th>\n",
       "      <td>1.0</td>\n",
       "      <td>5.729252</td>\n",
       "      <td>5.729252</td>\n",
       "      <td>17.441075</td>\n",
       "      <td>0.004157</td>\n",
       "    </tr>\n",
       "    <tr>\n",
       "      <th>Residual</th>\n",
       "      <td>7.0</td>\n",
       "      <td>2.299443</td>\n",
       "      <td>0.328492</td>\n",
       "      <td>NaN</td>\n",
       "      <td>NaN</td>\n",
       "    </tr>\n",
       "  </tbody>\n",
       "</table>\n",
       "</div>"
      ],
      "text/plain": [
       "                  df     sum_sq    mean_sq          F    PR(>F)\n",
       "x1               1.0  15.871304  15.871304  48.315660  0.000221\n",
       "n_of_deliveries  1.0   5.729252   5.729252  17.441075  0.004157\n",
       "Residual         7.0   2.299443   0.328492        NaN       NaN"
      ]
     },
     "execution_count": 11,
     "metadata": {},
     "output_type": "execute_result"
    }
   ],
   "source": [
    "anova_table=anova_lm(model,typ=1)\n",
    "anova_table"
   ]
  },
  {
   "cell_type": "code",
   "execution_count": null,
   "id": "cf44058c",
   "metadata": {},
   "outputs": [],
   "source": []
  }
 ],
 "metadata": {
  "kernelspec": {
   "display_name": "Python 3 (ipykernel)",
   "language": "python",
   "name": "python3"
  },
  "language_info": {
   "codemirror_mode": {
    "name": "ipython",
    "version": 3
   },
   "file_extension": ".py",
   "mimetype": "text/x-python",
   "name": "python",
   "nbconvert_exporter": "python",
   "pygments_lexer": "ipython3",
   "version": "3.9.7"
  }
 },
 "nbformat": 4,
 "nbformat_minor": 5
}
